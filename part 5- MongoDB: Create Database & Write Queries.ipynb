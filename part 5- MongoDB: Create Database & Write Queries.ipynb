{
 "cells": [
  {
   "cell_type": "markdown",
   "metadata": {},
   "source": [
    "# Answer Questions with NoSQL"
   ]
  },
  {
   "cell_type": "code",
   "execution_count": 2,
   "metadata": {
    "collapsed": true
   },
   "outputs": [],
   "source": [
    "import csv\n",
    "import json\n",
    "import pandas as pd\n",
    "import sys, getopt, pprint\n",
    "from pymongo import MongoClient"
   ]
  },
  {
   "cell_type": "markdown",
   "metadata": {},
   "source": [
    "We transformed our MySQL database into MongoDB in a way that they share the same csv tables that we use to import into database as our tables.\n",
    "In this way,the database in MySQL & MongoDB are completely the same.\n",
    "\n",
    "We import those csv form of data into MongoDB using Command Line,which is clarified in the README in NoSQL File.\n",
    "Now, we will begin answer question using NoSQL database."
   ]
  },
  {
   "cell_type": "markdown",
   "metadata": {},
   "source": [
    "# Connect to MongoDB"
   ]
  },
  {
   "cell_type": "code",
   "execution_count": 5,
   "metadata": {
    "collapsed": true
   },
   "outputs": [],
   "source": [
    "client = MongoClient('mongodb://localhost:27017')\n",
    "db = client.movies\n",
    "movieMain = db.movieMain\n",
    "movieActor = db.movieActor\n",
    "movieDirector = db.movieDirector\n",
    "moviePerformance = db.moviePerformance\n",
    "twitterTag = db.taginfo\n",
    "twitterUserClean = db.twitterUserClean\n",
    "youtubeData = db.youtubeData"
   ]
  },
  {
   "cell_type": "markdown",
   "metadata": {},
   "source": [
    "## 1. What are people saying about me ?"
   ]
  },
  {
   "cell_type": "code",
   "execution_count": 8,
   "metadata": {},
   "outputs": [
    {
     "name": "stdout",
     "output_type": "stream",
     "text": [
      "[{'_id': ObjectId('5ad3662406651e8d9521d3af'), 'tag': 'FantasticBeastsAndWhereToFindThem', 'movieTag': {'tag': 'Fantastic Beasts: The Crimes of Grindelwald FULL\\'M.o.V.i.E\\'2018\\'HD\\'\"'}}, {'_id': ObjectId('5ad3662406651e8d9521d3b0'), 'tag': 'Vidimovie', 'movieTag': {'tag': 'Fantastic Beasts: The Crimes of Grindelwald FULL\\'M.o.V.i.E\\'2018\\'HD\\'\"'}}, {'_id': ObjectId('5ad3662406651e8d9521d3b1'), 'tag': 'contentmarketing', 'movieTag': {'tag': 'Fantastic Beasts: The Crimes of Grindelwald FULL\\'M.o.V.i.E\\'2018\\'HD\\'\"'}}]\n"
     ]
    }
   ],
   "source": [
    "# Show tags in Twitter and YouTube about a single movie\n",
    "uc1_2 =twitterTag.aggregate([\n",
    " \n",
    "    {\n",
    "        \"$lookup\":\n",
    "        {\n",
    "            \"from\":\"youtubeData\",\n",
    "            \"localField\":\"movie_name\",\n",
    "            \"foreignField\":\"movie_name\",\n",
    "            \"as\":\"movieTag\"\n",
    "        }\n",
    "    },\n",
    "    \n",
    "     {\"$unwind\": \"$movieTag\"},\n",
    "                                                \n",
    "     {\n",
    "         \"$match\":{\"movie_name\":\"Fantastic Beasts and Where to Find Them\"}\n",
    "     },\n",
    "    {\n",
    "        \"$project\":{\"tag\":1,\"movieTag.tag\":1}\n",
    "    }\n",
    "    ])\n",
    "print(list(uc1_2))"
   ]
  },
  {
   "cell_type": "markdown",
   "metadata": {},
   "source": [
    "## 2. How viral are my posts ?"
   ]
  },
  {
   "cell_type": "code",
   "execution_count": 9,
   "metadata": {},
   "outputs": [
    {
     "name": "stdout",
     "output_type": "stream",
     "text": [
      "[{'_id': {'user_id': 981237161113595000, 'retweet_count': 1}}, {'_id': {'user_id': 981237086870151000, 'retweet_count': 1}}, {'_id': {'user_id': 981237672470396000, 'retweet_count': 114}}]\n"
     ]
    }
   ],
   "source": [
    "# Using retweet count to indicate the spread of the post \n",
    "uc2 =twitterTag.aggregate([\n",
    "    {\"$match\":{\"movie_name\":\"La La Land\"}},\n",
    "    {\"$group\":{'_id':{'user_id':\"$user_id\",'retweet_count':\"$retweet_count\"}}},\n",
    "    {\"$project\":{'retweet_count':1,'user_id':1}}\n",
    "])\n",
    "print(list(uc2))"
   ]
  },
  {
   "cell_type": "markdown",
   "metadata": {},
   "source": [
    "## 3. How much influence to my posts have ?"
   ]
  },
  {
   "cell_type": "code",
   "execution_count": 3,
   "metadata": {},
   "outputs": [
    {
     "name": "stdout",
     "output_type": "stream",
     "text": [
      "[{'_id': 'Shinobi Ninja', 'avg_influence': 0.5}, {'_id': 'M. Saad Arslan Sadiq', 'avg_influence': 0.43609126832095}, {'_id': 'The Ringer', 'avg_influence': 0.2054221907379523}, {'_id': 'Hutch', 'avg_influence': 0.1628933940041509}, {'_id': 'Portal Games', 'avg_influence': 0.12172127051748563}, {'_id': 'Bibo', 'avg_influence': 0.11441169972936417}, {'_id': 'Gobierno Digital', 'avg_influence': 0.10225123196352753}, {'_id': 'J�r�me Voiturier', 'avg_influence': 0.10008986114807142}, {'_id': 'r�dio grenal', 'avg_influence': 0.09075505951619844}, {'_id': 'Tim Hughes ??�??', 'avg_influence': 0.0805536541603623}, {'_id': 'Cinema Guide', 'avg_influence': 0.07928932709512758}, {'_id': 'Ethan Silver', 'avg_influence': 0.07694128273307106}, {'_id': 'GK Edits', 'avg_influence': 0.0730832386625699}, {'_id': 'Roberto Blizzard', 'avg_influence': 0.07191379076572124}, {'_id': '??TheHiddenPages.com', 'avg_influence': 0.07178030714687648}, {'_id': 'Bold', 'avg_influence': 0.07153618996731143}, {'_id': 'TecnoAndroid', 'avg_influence': 0.06955080755461851}, {'_id': 'Yle Urheilu', 'avg_influence': 0.06032005937818737}, {'_id': 'BA NA NA', 'avg_influence': 0.05948073331579962}, {'_id': 'Island Conservation', 'avg_influence': 0.05907153173057173}, {'_id': 'Egor Putilov', 'avg_influence': 0.05879430430161855}, {'_id': 'Gay West Hollywood', 'avg_influence': 0.058147768743780935}, {'_id': 'Dynamite', 'avg_influence': 0.05813941818962243}, {'_id': 'Joost Dendooven', 'avg_influence': 0.05749867545655204}, {'_id': 'T A Y L??R', 'avg_influence': 0.057335256638271354}, {'_id': 'Amy Romine', 'avg_influence': 0.05645863715605715}, {'_id': 'Planetnews.space', 'avg_influence': 0.053139694108952855}, {'_id': 'WFMZ-TV 69News', 'avg_influence': 0.04946760081049294}, {'_id': 'Ben Swann', 'avg_influence': 0.04620551509186012}, {'_id': 'Jessica Abram ??', 'avg_influence': 0.042934424662832246}, {'_id': 'L-T', 'avg_influence': 0.042886928553085644}, {'_id': 'HECTICNINE-9', 'avg_influence': 0.041267126230637226}, {'_id': 'blacq', 'avg_influence': 0.03800171791013897}, {'_id': 'Gamer Style', 'avg_influence': 0.03514586670740846}, {'_id': 'Azucena Cobos ????', 'avg_influence': 0.03389209688884381}, {'_id': 'Klondike Gold Rush', 'avg_influence': 0.03275108622912974}, {'_id': 'Susan Leighton', 'avg_influence': 0.030744023858350296}, {'_id': 'Age UK Solihull', 'avg_influence': 0.029601852647287104}, {'_id': 'Gail Koger', 'avg_influence': 0.029311492887264156}, {'_id': 'borat8', 'avg_influence': 0.028980378126534926}, {'_id': 'Matthew Willson', 'avg_influence': 0.028979975617130293}, {'_id': 'Jay Pase', 'avg_influence': 0.028926844375718838}, {'_id': 'Baconsale', 'avg_influence': 0.02881414174242181}, {'_id': 'Lainey E. Kennedy', 'avg_influence': 0.028741287540183375}, {'_id': 'Toulouse Grande', 'avg_influence': 0.028584158393093702}, {'_id': 'The Good Dog Guide', 'avg_influence': 0.028292236548106947}, {'_id': 'WorldTravelAdv', 'avg_influence': 0.027380552746614925}, {'_id': 'Dave B.', 'avg_influence': 0.026700679861384958}, {'_id': 'Surf Club Portugal', 'avg_influence': 0.026426352451725036}, {'_id': 'UK Hotel Directory', 'avg_influence': 0.025586165820764402}, {'_id': 'Mythic Scribes', 'avg_influence': 0.024738078505204274}, {'_id': '????? ?????', 'avg_influence': 0.024343317354308523}, {'_id': 'addy', 'avg_influence': 0.022873580191201167}, {'_id': 'joseph edwards', 'avg_influence': 0.022003631736019744}, {'_id': '87.7 Colors Radio', 'avg_influence': 0.021443539028289396}, {'_id': 'East Anglian Daily Times', 'avg_influence': 0.020107462553191024}, {'_id': 'FrancescoFrancavilla', 'avg_influence': 0.020032742589263446}, {'_id': '????Gooner Kev????', 'avg_influence': 0.019422237373274764}, {'_id': 'Haiku Hare', 'avg_influence': 0.01864609866609533}, {'_id': 'Pill', 'avg_influence': 0.01857178392973152}, {'_id': 'Pastor Albertito', 'avg_influence': 0.018265022834957078}, {'_id': 'Hell Horror', 'avg_influence': 0.018160867436604243}, {'_id': 'My Disney Tweets', 'avg_influence': 0.018004901184516177}, {'_id': 'Joe Pranaitis', 'avg_influence': 0.01764827687622206}, {'_id': 'RC Willey', 'avg_influence': 0.01716662359816037}, {'_id': 'Guardian Social Care', 'avg_influence': 0.016838578433385095}, {'_id': 'Nostalgia Troy', 'avg_influence': 0.01648462316322021}, {'_id': 'Anas Halabi', 'avg_influence': 0.01613081739654847}, {'_id': 'GO! Scrapbook Videos', 'avg_influence': 0.015902997073526624}, {'_id': \"Wizard1's Movie Review\", 'avg_influence': 0.015823863724575924}, {'_id': 'Mike_McGarrett', 'avg_influence': 0.01555925404197069}, {'_id': 'IcelandAurora', 'avg_influence': 0.01554114111876224}, {'_id': 'Valo Vut', 'avg_influence': 0.015485192311518358}, {'_id': 'The Fours', 'avg_influence': 0.015468286916523804}, {'_id': 'Frank Jordan Smith', 'avg_influence': 0.015403482902378014}, {'_id': 'Amatulli Antiquities', 'avg_influence': 0.015202480230183425}, {'_id': 'Calamity Elaine', 'avg_influence': 0.015033174250116353}, {'_id': 'christine', 'avg_influence': 0.014824271869112221}, {'_id': 'Peter Lagendijk', 'avg_influence': 0.014811241088880888}, {'_id': 'Sarah Cassidy ??', 'avg_influence': 0.014786435985076792}, {'_id': '?????????', 'avg_influence': 0.014776373249960985}, {'_id': 'Chase Smith', 'avg_influence': 0.01473249972485607}, {'_id': 'Jack Russell ??', 'avg_influence': 0.01473209721545144}, {'_id': 'Readers & Authors', 'avg_influence': 0.014708498664071286}, {'_id': 'Dean', 'avg_influence': 0.01468741867153726}, {'_id': 'Mitchell Roush ??', 'avg_influence': 0.014666890691901016}, {'_id': 'Michael Reyes', 'avg_influence': 0.014587596339188465}, {'_id': 'AJ Dembroski', 'avg_influence': 0.01457592356645413}, {'_id': 'Will Fehlhaber', 'avg_influence': 0.014554289609442418}, {'_id': 'Khloud ??', 'avg_influence': 0.014554188058603989}, {'_id': 'kris turnbull', 'avg_influence': 0.014499849288978637}, {'_id': 'Tokyo Fox (???)', 'avg_influence': 0.014490189063267463}, {'_id': 'Woodpic', 'avg_influence': 0.01447891879993776}, {'_id': 'Sew French', 'avg_influence': 0.014368228713663894}, {'_id': 'Tom Hockney', 'avg_influence': 0.014360581034975882}, {'_id': 'Arman The Great', 'avg_influence': 0.014356958450334191}, {'_id': 'Konsider Pat', 'avg_influence': 0.014355348412715662}, {'_id': 'smartfrog', 'avg_influence': 0.014337235489507211}, {'_id': '123gostream.tv', 'avg_influence': 0.014334015414270153}, {'_id': '? ??????????????', 'avg_influence': 0.014325562716772877}, {'_id': 'Serpentitan', 'avg_influence': 0.01432073260391729}, {'_id': 'Alexandra LaBollita', 'avg_influence': 0.014319927585108026}, {'_id': 'Antwon Clemons', 'avg_influence': 0.014172417205967737}, {'_id': 'David Allen', 'avg_influence': 0.013804413612822605}, {'_id': 'MEDATZWHO', 'avg_influence': 0.013208574120120728}, {'_id': 'Ra�l Mendoza', 'avg_influence': 0.013012552040064828}, {'_id': 'Luciano Blancato', 'avg_influence': 0.011164805865689052}, {'_id': 'Eichin Chang-Lim', 'avg_influence': 0.010977891022656594}, {'_id': 'Smooth98.1FM', 'avg_influence': 0.010487785047097626}, {'_id': 'Mary Ann Bernal', 'avg_influence': 0.010266807383954525}, {'_id': 'Bea', 'avg_influence': 0.009790638758274586}, {'_id': 'Christian Kallias', 'avg_influence': 0.009623044366664474}, {'_id': 'Quencie.com', 'avg_influence': 0.009491976780037466}, {'_id': 'BigReggaeMix', 'avg_influence': 0.009229747443843186}, {'_id': 'Scottish Book Store', 'avg_influence': 0.009134649979562466}, {'_id': 'Kirsten Maxwell', 'avg_influence': 0.009128762817776085}, {'_id': 'diane straub', 'avg_influence': 0.00868736048017762}, {'_id': 'Sher~', 'avg_influence': 0.008298067601594208}, {'_id': 'Shannon Looper', 'avg_influence': 0.008242185078654363}, {'_id': 'Suffolk Tech', 'avg_influence': 0.007976882452557045}, {'_id': 'Jeff Sherman', 'avg_influence': 0.007962140083868753}, {'_id': 'Playing NOW @ Fm1Fm', 'avg_influence': 0.00788958684019652}, {'_id': 'Spectrum News RDU', 'avg_influence': 0.007699199891805472}, {'_id': 'CyberWarrior', 'avg_influence': 0.007564972240233327}, {'_id': 'TRAMP', 'avg_influence': 0.00711998885853968}, {'_id': 'Ajay K. Pandey ????', 'avg_influence': 0.0069643109747806724}, {'_id': 'TexasTreasures', 'avg_influence': 0.0068269620119674095}, {'_id': 'Somos La Cuadra U', 'avg_influence': 0.006773830770555954}, {'_id': '???', 'avg_influence': 0.006456672645767214}, {'_id': 'K & K Cattle Company', 'avg_influence': 0.006291677126200287}, {'_id': 'Andrea Callahan', 'avg_influence': 0.00598209477164434}, {'_id': 'Victoria Summer', 'avg_influence': 0.0057013952373325665}, {'_id': 'Hackers Clothing', 'avg_influence': 0.005663307323175606}, {'_id': 'Prabhas Maneesh', 'avg_influence': 0.00566036513570366}, {'_id': 'Jose Luis Badalt', 'avg_influence': 0.005354834639944209}, {'_id': 'Movieplayer.it', 'avg_influence': 0.0050349901425446805}, {'_id': 'Claudia Ramirez', 'avg_influence': 0.004977383997093989}, {'_id': 'RealLifeMamaDrama ?? #NYIAS', 'avg_influence': 0.004931601541897034}, {'_id': 'VIP Mums', 'avg_influence': 0.004911423449271667}, {'_id': 'Dr. Martha Gulati', 'avg_influence': 0.004904979604848468}, {'_id': 'Christine Bygrave', 'avg_influence': 0.004869167349683448}, {'_id': 'Psycho Girl.', 'avg_influence': 0.004858091641146338}, {'_id': 'MGDezigns', 'avg_influence': 0.004857333015818761}, {'_id': 'Pen & Sword Books', 'avg_influence': 0.004844302235587427}, {'_id': 'Jake&TomConquer', 'avg_influence': 0.00483107204762832}, {'_id': 'ETG', 'avg_influence': 0.0047200394622417445}, {'_id': 'The Divah Filez', 'avg_influence': 0.004674744225398826}, {'_id': '?????????????????????', 'avg_influence': 0.004582002462481066}, {'_id': 'RB Casting', 'avg_influence': 0.004574116874240767}, {'_id': 'KaliMarcum?', 'avg_influence': 0.004557211479246212}, {'_id': '???? ??? ???', 'avg_influence': 0.004414143396568491}, {'_id': 'Lazionews.eu', 'avg_influence': 0.004316913364680766}, {'_id': 'Android Facts', 'avg_influence': 0.004310070704802018}, {'_id': 'Ed from the Bronx', 'avg_influence': 0.0042567889841074605}, {'_id': 'Corwin Press', 'avg_influence': 0.004132161547954568}, {'_id': 'Francis Wegner', 'avg_influence': 0.00413101033608351}, {'_id': 'Jhedron Luckspar', 'avg_influence': 0.0039828305588360076}, {'_id': '????????????', 'avg_influence': 0.003925368583200291}, {'_id': 'Ana', 'avg_influence': 0.0038884476443733717}, {'_id': 'Rog�rio Bohlke', 'avg_influence': 0.0036638926310841717}, {'_id': 'Respect My Region', 'avg_influence': 0.0033738338296274294}, {'_id': 'Daniel Ghioldi', 'avg_influence': 0.0033738338296274294}, {'_id': 'DFS Hero', 'avg_influence': 0.0033678977393963743}, {'_id': 'Sarah', 'avg_influence': 0.003311444871909432}, {'_id': 'Gabrielle Teare', 'avg_influence': 0.0032603261775211376}, {'_id': 'Raquel Frdz-Veiga', 'avg_influence': 0.0032557028602914918}, {'_id': 'Todd Hancock', 'avg_influence': 0.0032546910458562863}, {'_id': '?�???????? ????? ??????�', 'avg_influence': 0.003247047061117357}, {'_id': 'Eric J. Lagarrigue', 'avg_influence': 0.003238390030626861}, {'_id': 'Timberwolves Report', 'avg_influence': 0.0031013349626914035}, {'_id': 'Chris', 'avg_influence': 0.003075171851390308}, {'_id': 'Sabina', 'avg_influence': 0.0030614865316328115}, {'_id': 'Gitmo Watch', 'avg_influence': 0.003002625995616242}, {'_id': 'Bonfire Night', 'avg_influence': 0.002900335984445897}, {'_id': 'Zoomerman Collection', 'avg_influence': 0.0028720661631813776}, {'_id': 'BeBetterHumans', 'avg_influence': 0.0028378178040327027}, {'_id': 'Krishna Kant Mishra', 'avg_influence': 0.0027154881905662497}, {'_id': 'Travelling With Our Kids', 'avg_influence': 0.0027067252668687065}, {'_id': 'Inspired Designers', 'avg_influence': 0.002673467465567333}, {'_id': 'George Eliseo', 'avg_influence': 0.0025981003500117586}, {'_id': 'Junie Woonie', 'avg_influence': 0.002582349860837345}, {'_id': 'Nowo ??', 'avg_influence': 0.0025734217475830777}, {'_id': 'tweed', 'avg_influence': 0.002566231342520185}, {'_id': 'Gusto', 'avg_influence': 0.0025482418062311167}, {'_id': '@Camz99', 'avg_influence': 0.0025436637234970607}, {'_id': 'Novus Ordo Watch', 'avg_influence': 0.0025430544184664875}, {'_id': 'Lesbo of LATB', 'avg_influence': 0.0025078674788485103}, {'_id': 'Hentai-sama', 'avg_influence': 0.0024805676038591445}, {'_id': 'Niki Adamson', 'avg_influence': 0.0024061664232274274}, {'_id': 'what do yoonmin?', 'avg_influence': 0.0024058164706938423}, {'_id': 'Scottish Books', 'avg_influence': 0.002359611680792615}, {'_id': 'P. M. Carron', 'avg_influence': 0.0023028200081420458}, {'_id': 'Moneyball Sportswear', 'avg_influence': 0.0022778007208138417}, {'_id': 'David Caldwell', 'avg_influence': 0.002267166854878431}, {'_id': 'kim dunn', 'avg_influence': 0.0022335246863042957}, {'_id': 'Bryce Blackwell?', 'avg_influence': 0.0021847142514339313}, {'_id': 'Madden Producer', 'avg_influence': 0.0021538278241871123}, {'_id': 'Tome Fest', 'avg_influence': 0.0021503067903838506}, {'_id': 'Virtual Pitch Fest', 'avg_influence': 0.0021442728432634504}, {'_id': 'Jamie Shelton', 'avg_influence': 0.0021327905382363724}, {'_id': 'Movies & Deals', 'avg_influence': 0.0020922438852783794}, {'_id': 'Jesy Ann McCall', 'avg_influence': 0.0020804643156341813}, {'_id': 'CUP Cunit', 'avg_influence': 0.0020334620913899826}, {'_id': 'kambiz mahmoudpour', 'avg_influence': 0.0020043537436836155}, {'_id': 'Tam Mcmahon', 'avg_influence': 0.0019682407920432275}, {'_id': 'Christ Washington', 'avg_influence': 0.0019145314148389238}, {'_id': 'Mila', 'avg_influence': 0.0019140854851518888}, {'_id': 'Sheri Aden', 'avg_influence': 0.0018831827299863862}, {'_id': '-GEROMAN ???? -', 'avg_influence': 0.0018781236578103602}, {'_id': '??? RO Hyeok-jin', 'avg_influence': 0.0018580011709893646}, {'_id': 'Frankie ??', 'avg_influence': 0.001854966438222216}, {'_id': 'Linda Guzman', 'avg_influence': 0.0018537995434482328}, {'_id': 'anakin', 'avg_influence': 0.0018489206987160995}, {'_id': 'Maeka', 'avg_influence': 0.00184067550738323}, {'_id': '3boys4nana@gmail.com', 'avg_influence': 0.0018312793662701382}, {'_id': 'For Radio Lovers', 'avg_influence': 0.0017776430919863194}, {'_id': 'BigRig Gentleman & Diesel ????', 'avg_influence': 0.0017718463991911171}, {'_id': 'Fajardo ????', 'avg_influence': 0.0017692255197666856}, {'_id': 'STHE | straykids', 'avg_influence': 0.0017555974234586217}, {'_id': 'Nigel Duara, Space Force Admiral', 'avg_influence': 0.0017378851299189072}, {'_id': 'Joshua Stamper', 'avg_influence': 0.001718617300890316}, {'_id': 'Anishinabek Nation', 'avg_influence': 0.0017175076295657648}, {'_id': 'Otto ??', 'avg_influence': 0.0017158975919472359}, {'_id': '?', 'avg_influence': 0.0017125951184999422}, {'_id': 'Uwe Hauck ????????', 'avg_influence': 0.0017050298380221654}, {'_id': 'mary', 'avg_influence': 0.0016993947063573141}, {'_id': 'Miki Minach', 'avg_influence': 0.0016918091142652462}, {'_id': 'P #TiredOfTheCold', 'avg_influence': 0.0016911940389815676}, {'_id': 'Toby Osmond', 'avg_influence': 0.0016744391232701153}, {'_id': 'Paris France News', 'avg_influence': 0.001667596463391367}, {'_id': 'Juli D. Revezzo', 'avg_influence': 0.0016615246696735427}, {'_id': 'remi granger-weasley | 15', 'avg_influence': 0.0016510935778014453}, {'_id': 'JustinPhillips', 'avg_influence': 0.001642238370899536}, {'_id': 'AMInatics_sylvia????', 'avg_influence': 0.0016339887750791166}, {'_id': 'Interrupted   Artist ??????', 'avg_influence': 0.0016265405041188787}, {'_id': 'Imperium 38', 'avg_influence': 0.0016080250715057958}, {'_id': 'Heavyweights Brass Band', 'avg_influence': 0.0016001779850900086}, {'_id': 'Women In International Security', 'avg_influence': 0.001591522185915874}, {'_id': 'Lynn', 'avg_influence': 0.0015863911144940836}, {'_id': 'Cr�nicas PSN', 'avg_influence': 0.0015834719978232291}, {'_id': 'Sofia??', 'avg_influence': 0.0015799713135012789}, {'_id': 'Eau De Anastasia?? TARGET?s #1 Stan|GIDDY UP', 'avg_influence': 0.001577854625365326}, {'_id': 'GosVegas Running', 'avg_influence': 0.001575019300325952}, {'_id': 'M Rizwan PTI  �', 'avg_influence': 0.0015506693283202431}, {'_id': 'J.S. Crews', 'avg_influence': 0.0015367809068858895}, {'_id': 'Matt Perrault', 'avg_influence': 0.00152641721320388}, {'_id': 'Golazzo..Bay Bay!', 'avg_influence': 0.0015192054205076647}, {'_id': 'The Seabird Group', 'avg_influence': 0.0015165049573711757}, {'_id': '????????????????????', 'avg_influence': 0.0015040900940074054}, {'_id': 'Rossella Benedetto', 'avg_influence': 0.0014918050983545904}, {'_id': 'Qu� Friki!', 'avg_influence': 0.0014788195526188469}, {'_id': 'uvaSupport', 'avg_influence': 0.0014715743833354667}, {'_id': 'HexAngyl', 'avg_influence': 0.0014477792797533875}, {'_id': 'MYA LAROSE', 'avg_influence': 0.0014308341584255138}, {'_id': '????', 'avg_influence': 0.0014292814097791261}, {'_id': 'S??????? s???', 'avg_influence': 0.0014289083864444494}, {'_id': '???????(5/13Perfume??????)', 'avg_influence': 0.0014286233073492983}, {'_id': '???????? ?????????', 'avg_influence': 0.0014144180478776888}, {'_id': '?YaShi?', 'avg_influence': 0.001413924293420701}, {'_id': 'Ham Gretsky', 'avg_influence': 0.0014130600403806902}, {'_id': 'Jimmy Mack', 'avg_influence': 0.0013793997296746839}, {'_id': 'Sheindie', 'avg_influence': 0.001358168282067604}, {'_id': 'Sofi?', 'avg_influence': 0.0013514797954210407}, {'_id': 'Nikki', 'avg_influence': 0.0013442309321885773}, {'_id': 'MAARTSY', 'avg_influence': 0.0013406083475468872}, {'_id': 'Garry Egan', 'avg_influence': 0.001331658977704715}, {'_id': 'CRedding', 'avg_influence': 0.0013161115902071594}, {'_id': '????? ?.', 'avg_influence': 0.001294054839832213}, {'_id': 'Ramy', 'avg_influence': 0.0012860712738684806}, {'_id': 'Thilan Bandara', 'avg_influence': 0.0012850668473314414}, {'_id': 'charles', 'avg_influence': 0.0012806973744365127}, {'_id': 'Gill Miller', 'avg_influence': 0.0012759548126841983}, {'_id': 'Stefano Valentini', 'avg_influence': 0.0012635233593109088}, {'_id': 'Mike Kemsley', 'avg_influence': 0.001258693246455322}, {'_id': 'BTSdesiderata', 'avg_influence': 0.001257138421504912}, {'_id': 'Bizarro Migos @ AwesomeCon', 'avg_influence': 0.0012440060904351498}, {'_id': 'WEIRD CHRISTMAS', 'avg_influence': 0.001223831691758865}, {'_id': \"Trump's Redline ?\", 'avg_influence': 0.0012107482891337755}, {'_id': '???????', 'avg_influence': 0.0011970629693762794}, {'_id': 'VintageShopCreations', 'avg_influence': 0.001188865995949616}, {'_id': 'The Phone Casino', 'avg_influence': 0.0011801575743817254}, {'_id': '??mireia??', 'avg_influence': 0.0011726752818185646}, {'_id': \"Khan's Army\", 'avg_influence': 0.0011707530727411654}, {'_id': 'Deep ????', 'avg_influence': 0.0011628496699825392}, {'_id': 'Kate Makuen ??????????????#FBPE #ABTV', 'avg_influence': 0.0011554050929713843}, {'_id': 'Noelle', 'avg_influence': 0.0011550515120114248}, {'_id': 'chat noir', 'avg_influence': 0.0011499767569324736}, {'_id': 'Jamie Hickman', 'avg_influence': 0.0011471518032018819}, {'_id': 'AMInatics_shie????', 'avg_influence': 0.0011441837580863543}, {'_id': \"J'm SKZ ??3RACHA?Know\", 'avg_influence': 0.0011330981922108032}, {'_id': 'Honey??', 'avg_influence': 0.0011236845539815987}, {'_id': 'Shaa Clarke', 'avg_influence': 0.001116511383943983}, {'_id': 'TrancePulse Dublin', 'avg_influence': 0.0011085109003571869}, {'_id': '????? ???E', 'avg_influence': 0.0010976431464321164}, {'_id': 'Mia Sparrow', 'avg_influence': 0.0010940205617904263}, {'_id': 'Del Trabajo Abogados', 'avg_influence': 0.0010792292646574623}, {'_id': 'chappie?0408???????????', 'avg_influence': 0.0010614173000152148}, {'_id': 'Austin Shelton', 'avg_influence': 0.0010549837613780893}, {'_id': 'Skoglund16', 'avg_influence': 0.0010537762331641926}, {'_id': 'Cam30', 'avg_influence': 0.001047581500974617}, {'_id': 'That Best Wedding', 'avg_influence': 0.001044361425737559}, {'_id': 'Wow Jobs Schweiz', 'avg_influence': 0.001009493586817656}, {'_id': '511 NYC Area', 'avg_influence': 0.0009869530601582506}, {'_id': 'Ferran', 'avg_influence': 0.0009821175046631026}, {'_id': 'Tobiasz J. Koprowski', 'avg_influence': 0.0009662293667433148}, {'_id': 'Ocio Almer�a', 'avg_influence': 0.0009487146667181878}, {'_id': '??Rose Breen Pavlou ??????', 'avg_influence': 0.0009474166695131115}, {'_id': 'Deadly Sirius', 'avg_influence': 0.000937041893983853}, {'_id': 'Jason Bechler ????', 'avg_influence': 0.0009330167999375305}, {'_id': 'The Arts Alliance', 'avg_influence': 0.0009237101551863162}, {'_id': 'Maria ?', 'avg_influence': 0.0009097728053072895}, {'_id': 'AmberJade', 'avg_influence': 0.0009026781153070108}, {'_id': 'Haunted Houses', 'avg_influence': 0.000889395304954147}, {'_id': 'Josh Coutts', 'avg_influence': 0.0008776320632286323}, {'_id': 'Jorge Bautista', 'avg_influence': 0.0008763368528660454}, {'_id': 'luce?', 'avg_influence': 0.0008713350041394521}, {'_id': 'ormiga', 'avg_influence': 0.0008670052575778433}, {'_id': 'Art Kom', 'avg_influence': 0.0008636698938580358}, {'_id': 'Charlotte Luko', 'avg_influence': 0.0008616895542246104}, {'_id': 'You Colonizers Don?t Scare Me', 'avg_influence': 0.0008593714475795693}, {'_id': 'AI', 'avg_influence': 0.0008529174284157149}, {'_id': 'Where Orlando', 'avg_influence': 0.0008444647309184379}, {'_id': 'Eze Gauto?', 'avg_influence': 0.0008366730537388962}, {'_id': 'NORTH Wrestling NCL', 'avg_influence': 0.0008314339506871046}, {'_id': 'Joaquin Caluva', 'avg_influence': 0.0008232684741117101}, {'_id': 'Sara ?? ?MARS? ?', 'avg_influence': 0.0008182093364129755}, {'_id': 'Greg-L', 'avg_influence': 0.0008136995589756008}, {'_id': 'J. Nally', 'avg_influence': 0.0008115605105770232}, {'_id': 'Run Over By Omnibus', 'avg_influence': 0.0008110564503339621}, {'_id': 'murat ap', 'avg_influence': 0.0007993587925853484}, {'_id': 'jaye & anita dawes', 'avg_influence': 0.0007973711305764659}, {'_id': 'Contagion', 'avg_influence': 0.0007937485459347757}, {'_id': 'Mobile Techno News', 'avg_influence': 0.0007889184330791889}, {'_id': 'Kinex Media', 'avg_influence': 0.0007865033766513954}, {'_id': 'DRAKE The Bookshop', 'avg_influence': 0.0007763991009890826}, {'_id': 'Scribble Pug', 'avg_influence': 0.0007680405664320685}, {'_id': 'Cigmo', 'avg_influence': 0.0007646378045221728}, {'_id': 'Jos� Luis', 'avg_influence': 0.0007527452090560433}, {'_id': 'cathy', 'avg_influence': 0.0007429345040617678}, {'_id': 'Leah', 'avg_influence': 0.0007395316766291634}, {'_id': 'courage_ofcl??', 'avg_influence': 0.0007370473422753859}, {'_id': 'Cesaro.', 'avg_influence': 0.0007270335356042529}, {'_id': 'Us Living Life', 'avg_influence': 0.0007249194377426628}, {'_id': 'Vidimovie: Movies', 'avg_influence': 0.0007212968531009727}, {'_id': 'Greatees', 'avg_influence': 0.0007144541932222247}, {'_id': 'Heather May Morgan', 'avg_influence': 0.0007136491744129601}, {'_id': '511 New York', 'avg_influence': 0.0006967437794184061}, {'_id': 'HorrorAudio', 'avg_influence': 0.0006916127079966158}, {'_id': 'Chauffeur Prince Ben', 'avg_influence': 0.0006782283468053231}, {'_id': 'Wesley Schmidt', 'avg_influence': 0.000665607463876788}, {'_id': 'Carlos Carrillo M', 'avg_influence': 0.0006652991174124186}, {'_id': 'Siirius Viirius', 'avg_influence': 0.0006631795113885584}, {'_id': 'Magna-Tiles�', 'avg_influence': 0.0006625304800246658}, {'_id': 'Andr� Teixeira', 'avg_influence': 0.000647637632053273}, {'_id': 'Matt', 'avg_influence': 0.0006452225756254794}, {'_id': 'Dene Kernohan', 'avg_influence': 0.0006407949721745249}, {'_id': 'Jay Allan', 'avg_influence': 0.0006358143800358363}, {'_id': 'Marco Condor ?', 'avg_influence': 0.0006350860270507219}, {'_id': 'Carrie Osman', 'avg_influence': 0.0006311347464633511}, {'_id': 'Distrito Cine', 'avg_influence': 0.0006287196900355577}, {'_id': 'SeventhWard', 'avg_influence': 0.0006271096524170288}, {'_id': 'Ni Mas Ni Menos', 'avg_influence': 0.0006271096524170288}, {'_id': 'Bardiel', 'avg_influence': 0.000615839389087326}, {'_id': 'Caitlin Snow Harper', 'avg_influence': 0.0006139847092454326}, {'_id': 'ann', 'avg_influence': 0.0006128261094762088}, {'_id': 'psqr.?????ing', 'avg_influence': 0.0006088426214991021}, {'_id': 'Robert', 'avg_influence': 0.0006030855895145108}, {'_id': 'Jim Prall', 'avg_influence': 0.0006028196907032418}, {'_id': 'Miss Donna Tomlin', 'avg_influence': 0.0006028040733230249}, {'_id': 'KidsToysUK', 'avg_influence': 0.0006021540693298299}, {'_id': 'Luisa Fernanda', 'avg_influence': 0.0005997390129020365}, {'_id': 'Emma Delia', 'avg_influence': 0.0005960103418889499}, {'_id': 'Isolated LS', 'avg_influence': 0.0005956983014754973}, {'_id': 'American Descendant', 'avg_influence': 0.0005953714197430038}, {'_id': 'vijos�', 'avg_influence': 0.0005941038812371851}, {'_id': 'Bic', 'avg_influence': 0.0005896273493415576}, {'_id': '????jjf07????', 'avg_influence': 0.0005794385991649863}, {'_id': 'ross ~ vampire leto?', 'avg_influence': 0.0005763011842289998}, {'_id': 'VMware Canada', 'avg_influence': 0.0005639156758897671}, {'_id': 'Feistyfem ????', 'avg_influence': 0.0005632122079189315}, {'_id': 'Chase Hasty', 'avg_influence': 0.0005618542004219332}, {'_id': 'Richard Baxter', 'avg_influence': 0.0005586830536295481}, {'_id': 'william carter', 'avg_influence': 0.0005547142759260646}, {'_id': 'Marcus - The Keeper', 'avg_influence': 0.0005542554501785934}, {'_id': 'shakeboxing', 'avg_influence': 0.000553450431369329}, {'_id': 'monisha', 'avg_influence': 0.0005484209107859675}, {'_id': '????? ???? *????????*', 'avg_influence': 0.0005450014278211349}, {'_id': 'Fantasmita????????', 'avg_influence': 0.0005420823111502804}, {'_id': 'Marco Montalv�n', 'avg_influence': 0.0005345324893516137}, {'_id': 'dessazamora', 'avg_influence': 0.0005345324893516137}, {'_id': 'Janet Jackowski', 'avg_influence': 0.0005316170666298422}, {'_id': 'Michael Martin', 'avg_influence': 0.0005293026539338841}, {'_id': '??????Denise ?????', 'avg_influence': 0.0005209487204325464}, {'_id': 'Rhawn Leaney', 'avg_influence': 0.0005183564854941854}, {'_id': 'Josh Welsh', 'avg_influence': 0.0005173298297399393}, {'_id': 'Hern�n D�az', 'avg_influence': 0.0005170741056693257}, {'_id': 'margarida ? minwoo', 'avg_influence': 0.0005116485564729045}, {'_id': 'anne joyce', 'avg_influence': 0.0005095769062644148}, {'_id': 'NextFilm', 'avg_influence': 0.0005083693780505181}, {'_id': 'jobsuche jobs', 'avg_influence': 0.000503136755790299}, {'_id': 'Kristia Wheatstone', 'avg_influence': 0.0005009931718587537}, {'_id': 'M????? N??b???', 'avg_influence': 0.0004984968485511336}, {'_id': 'Halda Connell', 'avg_influence': 0.0004970991147208154}, {'_id': 'Vidimovie Videos', 'avg_influence': 0.0004962940959115509}, {'_id': 'WilzFoto', 'avg_influence': 0.0004926715112698608}, {'_id': 'Miriam Garc�a', 'avg_influence': 0.0004911630244897607}, {'_id': 'Amber Angeline', 'avg_influence': 0.0004901059755589657}, {'_id': 'FtoonAB.', 'avg_influence': 0.0004872505631291162}, {'_id': 'Brianna Koch', 'avg_influence': 0.000486231360795745}, {'_id': 'Shanae', 'avg_influence': 0.00048432036461101266}, {'_id': 'Bob', 'avg_influence': 0.0004812507686570564}, {'_id': 'Christine Hodder', 'avg_influence': 0.0004785836821077324}, {'_id': '??????', 'avg_influence': 0.0004775996050520044}, {'_id': '????? Unknown', 'avg_influence': 0.0004773761538938357}, {'_id': 'paul rikmans', 'avg_influence': 0.0004773272254491628}, {'_id': 'kukiman.09', 'avg_influence': 0.00047597291190124745}, {'_id': 'mellers1313', 'avg_influence': 0.0004709360034197199}, {'_id': '????? ?????????', 'avg_influence': 0.0004689234563965587}, {'_id': 'Andy Martinez', 'avg_influence': 0.000467037410748814}, {'_id': 'tweber', 'avg_influence': 0.0004668361888078523}, {'_id': 'emptynestmummy', 'avg_influence': 0.00046580440429091775}, {'_id': '??? .', 'avg_influence': 0.0004653008717548686}, {'_id': 'Rick Covert????', 'avg_influence': 0.0004649583726421583}, {'_id': 'Joshua Rubin', 'avg_influence': 0.0004580557024714882}, {'_id': 'Mia??', 'avg_influence': 0.0004558926761652253}, {'_id': 'Link', 'avg_influence': 0.0004541414268976567}, {'_id': '???? ???????', 'avg_influence': 0.0004482551722178683}, {'_id': 'Chris Stagg', 'avg_influence': 0.0004467438985952787}, {'_id': 'WiZecraX', 'avg_influence': 0.0004455908725110339}, {'_id': 'Stephen Dempsey', 'avg_influence': 0.00044490030060063436}, {'_id': 'Ed Lauder', 'avg_influence': 0.0004447728921186243}, {'_id': 'Insp Country Radio', 'avg_influence': 0.0004411503074769342}, {'_id': 'Ben Collins', 'avg_influence': 0.0004399427792630375}, {'_id': 'Shakespeare Phrases', 'avg_influence': 0.00043938979057530356}, {'_id': 'Smooth Moves', 'avg_influence': 0.0004343076475981861}, {'_id': 'Vero', 'avg_influence': 0.0004331001193842894}, {'_id': 'Craig Zablo', 'avg_influence': 0.00043229510057502495}, {'_id': 'Yann Simonoff', 'avg_influence': 0.0004282580175748599}, {'_id': 'AtodaletraBlog', 'avg_influence': 0.0004266599689101736}, {'_id': 'KOFI NOCTURNAL', 'avg_influence': 0.0004246474218870124}, {'_id': 'Baby & Tots Boutique', 'avg_influence': 0.0004246474218870124}, {'_id': 'bookslikejackreacher', 'avg_influence': 0.0004224843955807495}, {'_id': 'arianna', 'avg_influence': 0.00042153259143746635}, {'_id': '??Tweet Guru??', 'avg_influence': 0.0004204718485575883}, {'_id': 'Nessa Ness', 'avg_influence': 0.00041642277660358066}, {'_id': 'NE1fm Playlist', 'avg_influence': 0.00041498719617583867}, {'_id': 'DK Travel Pix', 'avg_influence': 0.00041176712093878075}, {'_id': 'CoinSight', 'avg_influence': 0.0004049244610600327}, {'_id': 'WIZ PAPARAZY', 'avg_influence': 0.0003998063512213874}, {'_id': '??????????????', 'avg_influence': 0.0003988781752476939}, {'_id': 'Anku Kedia', 'avg_influence': 0.0003985554027250879}, {'_id': 'Drewtoo', 'avg_influence': 0.0003961865534221868}, {'_id': 'WX5EM', 'avg_influence': 0.0003957267550454131}, {'_id': 'Ava Circles', 'avg_influence': 0.00039134166477026777}, {'_id': 'Adam Brunetti', 'avg_influence': 0.00039123914130253655}, {'_id': 'The Duraged Historian', 'avg_influence': 0.000390486744887028}, {'_id': 'Martin D', 'avg_influence': 0.00038994853199562614}, {'_id': 'The Greyhound', 'avg_influence': 0.0003860065190423174}, {'_id': 'Ryan Leaver', 'avg_influence': 0.00038585603975921574}, {'_id': 'DE_Alex_Faulkner_USA', 'avg_influence': 0.00038330158589556964}, {'_id': 'Thomas Rouchi�', 'avg_influence': 0.000381481058702017}, {'_id': 'AGOOS ??', 'avg_influence': 0.0003772039345341641}, {'_id': 'Thanos/Kratos month', 'avg_influence': 0.0003715161804755568}, {'_id': 'MarcinhaCristina', 'avg_influence': 0.0003683635034285869}, {'_id': 'Puifaiiiiii', 'avg_influence': 0.00036746250746587264}, {'_id': 'Suganya', 'avg_influence': 0.0003661091010245508}, {'_id': 'Fiona Helen Christie', 'avg_influence': 0.0003644778068181172}, {'_id': 'The Incredible Malk', 'avg_influence': 0.0003638685017875443}, {'_id': \"Batty 'ol Whore\", 'avg_influence': 0.0003629804018852661}, {'_id': 'CyclingLove', 'avg_influence': 0.00035969292845812017}, {'_id': 'Donald Gatton', 'avg_influence': 0.00035496806039004517}, {'_id': 'GreatMarkt', 'avg_influence': 0.0003472151369145208}, {'_id': '??KingHenry??', 'avg_influence': 0.00034564851957839457}, {'_id': 'Diego', 'avg_influence': 0.00034520258989135963}, {'_id': 'Zusifiy', 'avg_influence': 0.00034253550334203557}, {'_id': 'Film Party', 'avg_influence': 0.0003422345447758322}, {'_id': 'theBeard_27', 'avg_influence': 0.0003419539356909398}, {'_id': 'Angelus Obscure', 'avg_influence': 0.0003415836991987524}, {'_id': 'Chris Boscott', 'avg_influence': 0.0003410307105110185}, {'_id': 'Heather Larke', 'avg_influence': 0.0003394696013371624}, {'_id': 'TheWickerBreaker', 'avg_influence': 0.00033931542810497766}, {'_id': 'Dairyland Express', 'avg_influence': 0.00033876243941724374}, {'_id': 'Michele Pirovano', 'avg_influence': 0.00033801004300173517}, {'_id': 'the scarby', 'avg_influence': 0.0003373619842671449}, {'_id': 'Tamieka T.', 'avg_influence': 0.0003340828058447586}, {'_id': 'Managed Solution', 'avg_influence': 0.00033368029644012634}, {'_id': '???? Paul Bradbury ????', 'avg_influence': 0.00033259926960164607}, {'_id': 'amcii cullum', 'avg_influence': 0.0003307759555656039}, {'_id': 'Marc Guiraud', 'avg_influence': 0.00032744324764286814}, {'_id': 'Sam Trillson', 'avg_influence': 0.0003248389582279556}, {'_id': 'benbrowder.net', 'avg_influence': 0.0003239711422842797}, {'_id': 'Thierry Pl�', 'avg_influence': 0.00032314214556732995}, {'_id': 'Docteur Mine', 'avg_influence': 0.0003174294409717351}, {'_id': 'Felipe', 'avg_influence': 0.0003147623544224111}, {'_id': 'Hardware Blog', 'avg_influence': 0.0003107372603760887}, {'_id': 'Patitofeo Granada', 'avg_influence': 0.0003087247133529275}, {'_id': 'Jim Grundy', 'avg_influence': 0.0003087247133529275}, {'_id': 'Capacity LLC', 'avg_influence': 0.00030711467573439855}, {'_id': 'chi?ski muminek', 'avg_influence': 0.0003061139431464425}, {'_id': 'Spfld Public Schools', 'avg_influence': 0.00030308958168807616}, {'_id': 'ReginaH ilhabela ? ?', 'avg_influence': 0.0003026104719820028}, {'_id': '@WALLYB!!!!!!!', 'avg_influence': 0.00029757635034296473}, {'_id': 'URIOPSS HDF', 'avg_influence': 0.0002975560008616536}, {'_id': 'HALON Entertainment', 'avg_influence': 0.00029705194061859256}, {'_id': 'SchoolDepot', 'avg_influence': 0.0002962469218093281}, {'_id': 'Sosuume', 'avg_influence': 0.00029530250556421094}, {'_id': 'Rachel Hollars', 'avg_influence': 0.00029468399842228496}, {'_id': 'Rae-Rae', 'avg_influence': 0.00029222182776300566}, {'_id': 'BafTown', 'avg_influence': 0.0002907604552143914}, {'_id': 'Deborah Leather', 'avg_influence': 0.000290465004810458}, {'_id': 'Panthersforever', 'avg_influence': 0.00028980677133521226}, {'_id': 'chubby_bunnygirl', 'avg_influence': 0.00028610298533640437}, {'_id': 'Nahomi Slater ??', 'avg_influence': 0.00028497665847962536}, {'_id': 'Ruari Burt', 'avg_influence': 0.0002840248543363422}, {'_id': '#JikookWeek', 'avg_influence': 0.00028376913026572866}, {'_id': 'smiling champion', 'avg_influence': 0.00028279794927043683}, {'_id': 'MrDuke ????????????', 'avg_influence': 0.0002811546661101606}, {'_id': 'TomiNiskanen', 'avg_influence': 0.00028090263598863006}, {'_id': \"De Sjonnie's\", 'avg_influence': 0.00027906551878555824}, {'_id': '??? ???????????', 'avg_influence': 0.00027855128380184166}, {'_id': 'Gemma-Louise Davies', 'avg_influence': 0.0002781339986008773}, {'_id': 'VOR Market Research', 'avg_influence': 0.00027717850050851115}, {'_id': 'Jonny Loughran', 'avg_influence': 0.00027612145157771613}, {'_id': 'Agust�n', 'avg_influence': 0.00027477083197888376}, {'_id': 'Elmard ???', 'avg_influence': 0.00027344607002363256}, {'_id': 'Eltios', 'avg_influence': 0.0002727093565110496}, {'_id': 'Kevin Scott', 'avg_influence': 0.00027129133872212923}, {'_id': 'G0kumi3', 'avg_influence': 0.0002711916676195964}, {'_id': 'Virgil Van Di', 'avg_influence': 0.00026927879169896807}, {'_id': 'Gail Bannisterclarke', 'avg_influence': 0.00026877842540499005}, {'_id': 'Luke Dennis', 'avg_influence': 0.00026736779551423567}, {'_id': 'Sue Clark', 'avg_influence': 0.00026575775789570673}, {'_id': 'Fariz', 'avg_influence': 0.0002656562070572779}, {'_id': 'Ashok Rathod', 'avg_influence': 0.0002605574740706413}, {'_id': \"I'M BLESSED??\", 'avg_influence': 0.00026012450596675133}, {'_id': 'Joshua Lewis [ICN]', 'avg_influence': 0.00026012262623085537}, {'_id': 'dustin parker', 'avg_influence': 0.00025881354717852985}, {'_id': 'TheRealRussellMoon', 'avg_influence': 0.00025553624849203945}, {'_id': 'Tom the Viking', 'avg_influence': 0.0002553525236671905}, {'_id': 'Artemis', 'avg_influence': 0.00025176318456724756}, {'_id': 'Virginia', 'avg_influence': 0.0002514880836446253}, {'_id': \"SUGA'S BLACK MASK\", 'avg_influence': 0.00025073338670127853}, {'_id': 'Bubba Rosenbaum ?', 'avg_influence': 0.00024765591653450503}, {'_id': 'Lola K. Givens', 'avg_influence': 0.000246162205550737}, {'_id': 'Sarah de Roche', 'avg_influence': 0.000245423677824967}, {'_id': '#????_?????', 'avg_influence': 0.00024525309221787984}, {'_id': 'Onderzoek', 'avg_influence': 0.00024472571801640143}, {'_id': 'Shining Hobi?', 'avg_influence': 0.00024431400650041607}, {'_id': 'zahidsharif', 'avg_influence': 0.00024413118878216066}, {'_id': 'Guillaume Lagane', 'avg_influence': 0.00024392069920713697}, {'_id': 'Marcos I.', 'avg_influence': 0.00024170874445620115}, {'_id': 'pcymm again????-???', 'avg_influence': 0.00024112160312012644}, {'_id': '??? ?? #FlyWithMe', 'avg_influence': 0.00023722670439830354}, {'_id': 'Laura Chilmaid', 'avg_influence': 0.0002370780393283889}, {'_id': 'Valerie Gonzalez', 'avg_influence': 0.00023667552992375667}, {'_id': 'Namma SRK Fan', 'avg_influence': 0.00023588159296174125}, {'_id': 'Mrs Jen koutroumpis� ????', 'avg_influence': 0.00023587051111449218}, {'_id': 'delieaa?? #eaudevixx', 'avg_influence': 0.00023582067556322578}, {'_id': 'Ken Speed Bicycle', 'avg_influence': 0.00023385796409133099}, {'_id': 'Sadie W', 'avg_influence': 0.00023385245592906089}, {'_id': 'David Calais', 'avg_influence': 0.00023345545468669875}, {'_id': 'T K Gilb', 'avg_influence': 0.00023224792647280203}, {'_id': 'Carlos Soberanis', 'avg_influence': 0.00023129242838043585}, {'_id': 'Eric Forman', 'avg_influence': 0.0002309988577123985}, {'_id': 'Our Youth', 'avg_influence': 0.0002266127948079507}, {'_id': 'TIGER SHROFF Universe?', 'avg_influence': 0.00022601087767554383}, {'_id': 'FSOE COSTA RICA', 'avg_influence': 0.00022580777599868622}, {'_id': 'Gabriella', 'avg_influence': 0.00022435191161234198}, {'_id': 'Ricardo Fern�ndez', 'avg_influence': 0.00022364474969242332}, {'_id': 'Dessert Culture ????', 'avg_influence': 0.00022358013834482477}, {'_id': 'Derrell Durrett', 'avg_influence': 0.0002188709531796754}, {'_id': 'Martin W', 'avg_influence': 0.0002170088854396159}, {'_id': 'Nqobile', 'avg_influence': 0.00021528440092222198}, {'_id': 'Homer', 'avg_influence': 0.00021453751266898351}, {'_id': 'JUAN ANTONIO VIANA', 'avg_influence': 0.00021413500326435128}, {'_id': '??????? ???? ??????????? ????', 'avg_influence': 0.00021293486294862062}, {'_id': 'Colin Post', 'avg_influence': 0.00021252496564582232}, {'_id': 'Julie', 'avg_influence': 0.0002113174374319256}, {'_id': 'wmazri', 'avg_influence': 0.0002113174374319256}, {'_id': 'Mayka Core', 'avg_influence': 0.0002105124186226611}, {'_id': 'Adv Dheeraj Choudhary', 'avg_influence': 0.00020937598254793546}, {'_id': 'Taeygi', 'avg_influence': 0.00020684090553629806}, {'_id': 'Natalia????', 'avg_influence': 0.00020331987173303673}, {'_id': 'Blazing Minds Reviews', 'avg_influence': 0.00020286473993464857}, {'_id': 'Jojes Gikeri', 'avg_influence': 0.00020241330208534345}, {'_id': 'Point Blank', 'avg_influence': 0.0001988396458883262}, {'_id': 'Mona Itani', 'avg_influence': 0.00019843713648369393}, {'_id': '[TWRK]Nitrocity7', 'avg_influence': 0.00019833927959434818}, {'_id': 'PSPK DHONI', 'avg_influence': 0.00019637844785834935}, {'_id': 'Denise', 'avg_influence': 0.00019634798915909159}, {'_id': '???????? promo', 'avg_influence': 0.00019461514411422918}, {'_id': 'Kimmi Keister', 'avg_influence': 0.00019391906404155957}, {'_id': 'Chuck W', 'avg_influence': 0.0001928020048188426}, {'_id': 'Emmanuel TUYISHIMIRE', 'avg_influence': 0.00019169602744337468}, {'_id': 'Ayman Mohmd AlJadaan', 'avg_influence': 0.00019094732497694917}, {'_id': 'Shond Crittington', 'avg_influence': 0.00018917942017715244}, {'_id': 'Guillaume G', 'avg_influence': 0.00018830518896461286}, {'_id': 'Hard  male', 'avg_influence': 0.00018630072080636626}, {'_id': 'Ritayan Banerjee', 'avg_influence': 0.0001835442885123011}, {'_id': 'Se�or Uki', 'avg_influence': 0.00018314177910766884}, {'_id': 'FMWG inc.', 'avg_influence': 0.00018072672267987542}, {'_id': 'Grega', 'avg_influence': 0.00017936871518287699}, {'_id': 'Mary Anne Benedetto', 'avg_influence': 0.00017871417565671426}, {'_id': 'Pat WhoGivesAFCK', 'avg_influence': 0.0001755079691093949}, {'_id': 'Jacueline Rutter', 'avg_influence': 0.00017549319331306278}, {'_id': 'Sarah Dale Author', 'avg_influence': 0.0001721761682932526}, {'_id': 'Udo Schwerd', 'avg_influence': 0.0001718752097270492}, {'_id': '????????', 'avg_influence': 0.00017054029487204538}, {'_id': 'Jim Amos ?', 'avg_influence': 0.0001702614781594372}, {'_id': 'miso', 'avg_influence': 0.00016919244027479958}, {'_id': 'Tom Stingbatt', 'avg_influence': 0.00016744391232701152}, {'_id': 'Zero', 'avg_influence': 0.00016739498388233863}, {'_id': '??Illegal BunNy??', 'avg_influence': 0.00016632225204861798}, {'_id': 'TMJ-KAL Health Jobs', 'avg_influence': 0.0001662363841131148}, {'_id': 'ig: inferno.child', 'avg_influence': 0.00016608959877909612}, {'_id': 'JuliaART', 'avg_influence': 0.0001658375686575656}, {'_id': 'Shaun Rashid', 'avg_influence': 0.00016543136530385033}, {'_id': 'RD Blade', 'avg_influence': 0.00016472789733301465}, {'_id': 'Locked on Texans', 'avg_influence': 0.0001638739500790773}, {'_id': 'Roshie Weightman', 'avg_influence': 0.00016367084840221966}, {'_id': \"SADC's First Born\", 'avg_influence': 0.00016301630887605688}, {'_id': '???? ? ????', 'avg_influence': 0.0001628205950973653}, {'_id': '??', 'avg_influence': 0.0001588407355466328}, {'_id': 'Christine Lemley', 'avg_influence': 0.00015869025626353105}, {'_id': 'Fahad Khan', 'avg_influence': 0.00015818619602047003}, {'_id': 'Luke Walpole', 'avg_influence': 0.0001561736489973088}, {'_id': 'For An Appointed Time', 'avg_influence': 0.00015416110197414762}, {'_id': '?????? ???????? ??', 'avg_influence': 0.0001537585925695154}, {'_id': 'Sissy Retweeter', 'avg_influence': 0.0001535656656333133}, {'_id': 'Dre Martin', 'avg_influence': 0.00015345763400331195}, {'_id': 'simonedens', 'avg_influence': 0.00015326930812278644}, {'_id': 'Andrew Milward', 'avg_influence': 0.0001529535737602509}, {'_id': 'Tony Kimble', 'avg_influence': 0.00015077486455106236}, {'_id': 'Shane', 'avg_influence': 0.00015013600792782524}, {'_id': \"Dana's Restaurant\", 'avg_influence': 0.000149733498523193}, {'_id': 'Brandon', 'avg_influence': 0.00014912973441624463}, {'_id': 'Anfal????', 'avg_influence': 0.00014763048250885207}, {'_id': 'ADI213MILICIAFANB', 'avg_influence': 0.00014722427915513678}, {'_id': 'Razo_RAW???', 'avg_influence': 0.00014704334117277733}, {'_id': 'Megan Kloustin', 'avg_influence': 0.00014691593269076732}, {'_id': 'TMJ-COB Acct. Jobs', 'avg_influence': 0.00014611091388150283}, {'_id': 'Elizabeth Aylett', 'avg_influence': 0.00014404943841366875}, {'_id': 'tsmr??????', 'avg_influence': 0.00014329334804907717}, {'_id': 'TMJ-EDM Acct. Jobs', 'avg_influence': 0.00014329334804907717}, {'_id': \"Joseph D. Kaho'onei\", 'avg_influence': 0.00014314656271505847}, {'_id': \"Fran�oise Refloc'h\", 'avg_influence': 0.00014309394032130255}, {'_id': 'Safraz Hamid', 'avg_influence': 0.00014248832923981268}, {'_id': 'mirko', 'avg_influence': 0.0001416943922777973}, {'_id': 'Adri', 'avg_influence': 0.0001405394864576565}, {'_id': 'Joe Weber', 'avg_influence': 0.0001396735502498765}, {'_id': 'rose ?? leena', 'avg_influence': 0.00013967076340738702}, {'_id': 'Cindy Crawford ????????????', 'avg_influence': 0.000139234101354414}, {'_id': 'David Litresits', 'avg_influence': 0.00013847062309165636}, {'_id': 'Bj�rn Bergstr�m', 'avg_influence': 0.0001384143067488174}, {'_id': 'Entermedia', 'avg_influence': 0.0001364506881703291}, {'_id': 'Nelly', 'avg_influence': 0.0001359503218763511}, {'_id': 'Wilmington Intern', 'avg_influence': 0.00013484065055180015}, {'_id': 'Mohammad Reza', 'avg_influence': 0.00013469755916686448}, {'_id': 'H8er4life', 'avg_influence': 0.00013458401937459306}, {'_id': 'TMJ-LAS IT Adm. Jobs', 'avg_influence': 0.00013282810352863896}, {'_id': 'Shia', 'avg_influence': 0.00013202308471937447}, {'_id': 'Sergio A. Lagunas', 'avg_influence': 0.00013202308471937447}, {'_id': 'Alba ????', 'avg_influence': 0.0001300631600899692}, {'_id': 'Sarah Mailey', 'avg_influence': 0.00012992376265411656}, {'_id': 'TMJ-LAS Advert Jobs', 'avg_influence': 0.00012840050007768432}, {'_id': 'McIver?s Crossing', 'avg_influence': 0.00012840050007768432}, {'_id': 'jazzleadsheets.com', 'avg_influence': 0.00012790752168187234}, {'_id': 'TeaBreakFilmReviews', 'avg_influence': 0.00012638795305452313}, {'_id': 'AI Lab Page', 'avg_influence': 0.00012488316022350602}, {'_id': 'j.t.p/gam/song', 'avg_influence': 0.00012437540603136194}, {'_id': 'Krisztina Varga', 'avg_influence': 0.0001240744474651585}, {'_id': 'TMJ-NY R-Est Jobs', 'avg_influence': 0.00012357038722209744}, {'_id': 'Paula Bouvier', 'avg_influence': 0.00012357038722209744}, {'_id': 'jo', 'avg_influence': 0.00012256965463414138}, {'_id': 'Pooja Sharda', 'avg_influence': 0.00012203144174273954}, {'_id': 'Marco van Loon', 'avg_influence': 0.00012155784019893625}, {'_id': 'Cinemas Kristal', 'avg_influence': 0.000121155330794304}, {'_id': 'OfficialDoiretreascC', 'avg_influence': 0.0001210685557522073}, {'_id': 'Michael McLeod', 'avg_influence': 0.00012050448521722427}, {'_id': 'Dex the Dragon', 'avg_influence': 0.00011934588544800045}, {'_id': 'Clare Jepson', 'avg_influence': 0.00011873936725991705}, {'_id': 'TMJ-LAS Finance Jobs', 'avg_influence': 0.00011753274615261386}, {'_id': 'GermX', 'avg_influence': 0.00011713023674798162}, {'_id': 'Bad Chargie', 'avg_influence': 0.00011682927818177819}, {'_id': 'Rachel Richards', 'avg_influence': 0.00011668618679684253}, {'_id': \"Millie'sFashionStore\", 'avg_influence': 0.00011632521793871716}, {'_id': 'Ntsika Yekhaya Rayi', 'avg_influence': 0.0001159227085340849}, {'_id': 'Shawna Lawson', 'avg_influence': 0.00011511768972482042}, {'_id': 'Eric', 'avg_influence': 0.00011482781300586607}, {'_id': 'New Deadline', 'avg_influence': 0.00011456470103708646}, {'_id': 'QUEEN ANNA ???????????', 'avg_influence': 0.00011441422175398476}, {'_id': 'The Bridge over Jamiroquai', 'avg_influence': 0.00011431267091555594}, {'_id': 'TMJ-RIP Green Jobs', 'avg_influence': 0.0001139101615109237}, {'_id': 'Lascombe', 'avg_influence': 0.0001122561207131659}, {'_id': 'Martin Smith', 'avg_influence': 0.00011200285927527435}, {'_id': 'Celinda Olive', 'avg_influence': 0.0001118976144877625}, {'_id': 'Daebakkie', 'avg_influence': 0.00011184868604308962}, {'_id': 'Robin Hodson', 'avg_influence': 0.00011069008627386579}, {'_id': 'TMJ-KSK Govern Jobs', 'avg_influence': 0.00011069008627386579}, {'_id': 'Crazycup ?', 'avg_influence': 0.00010992939485359764}, {'_id': 'Quickkickyoung', 'avg_influence': 0.00010908004865533683}, {'_id': '????Rinrada', 'avg_influence': 0.00010831935723506868}, {'_id': 'Marianna No. ??????', 'avg_influence': 0.00010831566328598566}, {'_id': 'Logan Agretto', 'avg_influence': 0.00010719491011418564}, {'_id': 'Mohamed Nasser', 'avg_influence': 0.00010706750163217564}, {'_id': 'Anderson', 'avg_influence': 0.0001066649922275434}, {'_id': 'Mrs. Haddock', 'avg_influence': 0.00010581104497360602}, {'_id': 'Aytirn????', 'avg_influence': 0.00010525805628587207}, {'_id': 'Justin Kemmling', 'avg_influence': 0.0001046524452043822}, {'_id': 'Adam Knapton', 'avg_influence': 0.00010341076434214471}, {'_id': 'ChrlttsvllVA Intern', 'avg_influence': 0.00010304240758585325}, {'_id': '??????.', 'avg_influence': 0.00010147669735632061}, {'_id': 'Gematria Calculator', 'avg_influence': 0.00010143236996732429}, {'_id': 'Trevor & Caroline', 'avg_influence': 0.00010042794343028521}, {'_id': 'Adam Rattigan', 'avg_influence': 9.93708944994902e-05}, {'_id': 'Lord Boomstick', 'avg_influence': 9.861480413489862e-05}, {'_id': 'Kristin Fieseler', 'avg_influence': 9.838493770786624e-05}, {'_id': 'Prevent Biometrics', 'avg_influence': 9.740727592100189e-05}, {'_id': 'Worn On This Day', 'avg_influence': 9.740727592100189e-05}, {'_id': 'Jeffrey', 'avg_influence': 9.693276727060506e-05}, {'_id': 'MaLinda', 'avg_influence': 9.6925379372439e-05}, {'_id': 'Pinturas Quimicolor', 'avg_influence': 9.660225711173741e-05}, {'_id': 'm?kit? m?s?y?', 'avg_influence': 9.579723830247293e-05}, {'_id': 'Paulo Quicoli', 'avg_influence': 9.499221949320845e-05}, {'_id': 'Miriam Mondlin', 'avg_influence': 9.489436260386267e-05}, {'_id': 'Eyelean Lake', 'avg_influence': 9.485282205735583e-05}, {'_id': 'Alberto D�ez', 'avg_influence': 9.418720068394398e-05}, {'_id': 'K.v.Job', 'avg_influence': 9.353635510686424e-05}, {'_id': 'Aliyaan Mustafa', 'avg_influence': 9.308122330847608e-05}, {'_id': 'Roope', 'avg_influence': 9.229836819370976e-05}, {'_id': 'Mad Max', 'avg_influence': 9.13696348515183e-05}, {'_id': 'Pop Culture Review', 'avg_influence': 9.016210663762159e-05}, {'_id': 'Zoe Hanna', 'avg_influence': 9.001162735451987e-05}, {'_id': \"Elizabeth O'Hara\", 'avg_influence': 8.935708782835711e-05}, {'_id': 'Detachment 012', 'avg_influence': 8.878102833953146e-05}, {'_id': 'Jon Glass', 'avg_influence': 8.744609164362473e-05}, {'_id': 'Batipibe65', 'avg_influence': 8.634380821723986e-05}, {'_id': 'Cinema SilvioPellico', 'avg_influence': 8.412446556813799e-05}, {'_id': 'Be Do', 'avg_influence': 8.343207944455143e-05}, {'_id': 'Ryan  McDonald', 'avg_influence': 8.170940914034457e-05}, {'_id': 'Traffic Christi', 'avg_influence': 8.090439033108009e-05}, {'_id': 'krautlandnewseditor', 'avg_influence': 8.005044307714272e-05}, {'_id': 'Chris Dodsley', 'avg_influence': 7.80868244986544e-05}, {'_id': 'Will', 'avg_influence': 7.768431509402217e-05}, {'_id': 'Jill', 'avg_influence': 7.768431509402217e-05}, {'_id': 'Dominic Coles', 'avg_influence': 7.526925866622874e-05}, {'_id': 'Alex Mastronardi', 'avg_influence': 7.481782081692361e-05}, {'_id': 'JaVale McGoat', 'avg_influence': 7.406173045233202e-05}, {'_id': 'Justice The Union ??', 'avg_influence': 7.401280200765913e-05}, {'_id': 'Toni M', 'avg_influence': 7.365922104769978e-05}, {'_id': 'Meredith Morrison', 'avg_influence': 7.28542022384353e-05}, {'_id': 'Eric Trudel', 'avg_influence': 7.149619474143687e-05}, {'_id': 'vicki holder', 'avg_influence': 7.089427760903003e-05}, {'_id': 'CityofSound-Glasgow', 'avg_influence': 7.084165521527411e-05}, {'_id': 'BMS Radio', 'avg_influence': 6.963412700137738e-05}, {'_id': 'Steven Walter', 'avg_influence': 6.963412700137738e-05}, {'_id': '75lapaloise', 'avg_influence': 6.934794423150608e-05}, {'_id': 'Hunters Grimsby', 'avg_influence': 6.88291081921129e-05}, {'_id': 'Joshua ??', 'avg_influence': 6.839244613913989e-05}, {'_id': 'jessica', 'avg_influence': 6.601154235968723e-05}, {'_id': 'Juan Domingo Racing', 'avg_influence': 6.562011480230407e-05}, {'_id': 'TriNeaX @ Twitch', 'avg_influence': 6.319397652726156e-05}, {'_id': 'Maavia Qureshi', 'avg_influence': 6.24905085564259e-05}, {'_id': 'Tim Moreci', 'avg_influence': 6.244158011175301e-05}, {'_id': '?????', 'avg_influence': 6.0510580496379964e-05}, {'_id': 'Crawl Space Repair', 'avg_influence': 6.0376410694835886e-05}, {'_id': 'Franco Testa', 'avg_influence': 5.972556511775615e-05}, {'_id': 'Sof�a Rodr�guez', 'avg_influence': 5.967663667308325e-05}, {'_id': 'FCECUADOR MIRIAM OT', 'avg_influence': 5.962401427932733e-05}, {'_id': 'Saurabh ??', 'avg_influence': 5.922889277286115e-05}, {'_id': 'ChinaDoll320', 'avg_influence': 5.911995403626627e-05}, {'_id': 'Loretta Monaco', 'avg_influence': 5.836386367167469e-05}, {'_id': 'H�ctor Pineda', 'avg_influence': 5.836386367167469e-05}, {'_id': 'Mande Garrett', 'avg_influence': 5.715633545777797e-05}, {'_id': 'Sarmis9', 'avg_influence': 5.6471337232357445e-05}, {'_id': 'Jessykosis (Alive for Sonic the Hedgehog)', 'avg_influence': 5.645656143602534e-05}, {'_id': 'Oddo', 'avg_influence': 5.554629783924901e-05}, {'_id': 'Stephen Pike', 'avg_influence': 5.554629783924901e-05}, {'_id': '?CupCup_22VC?', 'avg_influence': 5.5399512505230335e-05}, {'_id': 'Kirishima @ 2 days to Vegas', 'avg_influence': 5.515117633278283e-05}, {'_id': 'Promesses', 'avg_influence': 5.514378843461677e-05}, {'_id': 'Kiba Snowpaw', 'avg_influence': 5.43387696253523e-05}, {'_id': 'DJFUNKYFOX Bukowski', 'avg_influence': 5.313124141145558e-05}, {'_id': 'millousi', 'avg_influence': 5.223205966192834e-05}, {'_id': 'Bora Bora', 'avg_influence': 5.2126814874416495e-05}, {'_id': 'Aleksey Yakim', 'avg_influence': 5.192371319755886e-05}, {'_id': 'Tony Chudley', 'avg_influence': 5.1679070974194394e-05}, {'_id': 'Roger Hartmans', 'avg_influence': 5.152120379292662e-05}, {'_id': 'Pranali Narvekar', 'avg_influence': 5.123871497213834e-05}, {'_id': 'Anthony', 'avg_influence': 5.12202452267232e-05}, {'_id': 'Le Sirenuse Miami', 'avg_influence': 4.9911166174397664e-05}, {'_id': 'Fine$$e The World??�', 'avg_influence': 4.9508656769765425e-05}, {'_id': '@lihamdan', 'avg_influence': 4.886889303993477e-05}, {'_id': 'Tshepiso Mlala', 'avg_influence': 4.886519909085174e-05}, {'_id': 'Eduardo Ahumada', 'avg_influence': 4.8703637960500946e-05}, {'_id': 'Aanimaker �', 'avg_influence': 4.789861915123647e-05}, {'_id': 'Fat Jon Gray', 'avg_influence': 4.774813986813475e-05}, {'_id': 'Ransom Place Matters', 'avg_influence': 4.749610974660423e-05}, {'_id': 'M&D Brake', 'avg_influence': 4.749610974660423e-05}, {'_id': 'Nassau Social Sci', 'avg_influence': 4.628858153270751e-05}, {'_id': 'Kata', 'avg_influence': 4.583714368340238e-05}, {'_id': 'Georg Sorros', 'avg_influence': 4.5081053318810797e-05}, {'_id': 'The Taproom Exclusive', 'avg_influence': 4.48327171463633e-05}, {'_id': 'PLF', 'avg_influence': 4.39409232950021e-05}, {'_id': 'carlosjii', 'avg_influence': 4.347101570028184e-05}, {'_id': 'Colin Ketchen', 'avg_influence': 4.226348748638512e-05}, {'_id': 'Samuel alexander', 'avg_influence': 4.025094046322392e-05}, {'_id': 'The Frost', 'avg_influence': 3.935175871369668e-05}, {'_id': 'Daner Rodr�guez', 'avg_influence': 3.89566372072305e-05}, {'_id': 'Gary Loveridge', 'avg_influence': 3.759124181206602e-05}, {'_id': 'Mncinar', 'avg_influence': 3.7448150427130365e-05}, {'_id': 'David Heyes', 'avg_influence': 3.738444618612535e-05}, {'_id': 'Lyanne Riley', 'avg_influence': 3.658681527502694e-05}, {'_id': 'Danice Dahdal', 'avg_influence': 3.612798952755574e-05}, {'_id': 'Safiya Saeed', 'avg_influence': 3.6026438689126926e-05}, {'_id': 'jmp.ljm', 'avg_influence': 3.523250172711153e-05}, {'_id': 'Jules M', 'avg_influence': 3.481891047523021e-05}, {'_id': '??Queen bee Amelia ??', 'avg_influence': 3.4367472625925075e-05}, {'_id': 'Joaquin Aranguiz', 'avg_influence': 3.381448393819113e-05}, {'_id': 'Frankie Gray', 'avg_influence': 3.3810789989108096e-05}, {'_id': 'cormacdowney', 'avg_influence': 3.3810789989108096e-05}, {'_id': 'Corie McCaw', 'avg_influence': 3.3408280584475856e-05}, {'_id': 'Susan McCarthy', 'avg_influence': 3.3265189199540204e-05}, {'_id': 'Deirdre Lennon', 'avg_influence': 3.266327206713336e-05}, {'_id': 'Country View El', 'avg_influence': 3.260326177521138e-05}, {'_id': '?????????????????????????????????????', 'avg_influence': 3.175670241944006e-05}, {'_id': 'Jai-Dee', 'avg_influence': 3.099691810576545e-05}, {'_id': 'DaisyDuck', 'avg_influence': 3.059071475205018e-05}, {'_id': 'Adrian ?ochowicz', 'avg_influence': 3.0188205347417943e-05}, {'_id': 'My Margiela Jacket', 'avg_influence': 3.0188205347417943e-05}, {'_id': 'St�phane BOUCLON', 'avg_influence': 2.9785695942785704e-05}, {'_id': 'Dany', 'avg_influence': 2.9736767498112808e-05}, {'_id': 'Mike Black John', 'avg_influence': 2.9383186538153464e-05}, {'_id': 'garth rapeport', 'avg_influence': 2.8980677133521224e-05}, {'_id': 'Weizel Sutake', 'avg_influence': 2.822828071801267e-05}, {'_id': 'KILLA KURE soi', 'avg_influence': 2.8175658324256745e-05}, {'_id': 'Crystal', 'avg_influence': 2.8175658324256745e-05}, {'_id': 'Tsheneka', 'avg_influence': 2.7528506696260035e-05}, {'_id': 'Marco Adam', 'avg_influence': 2.7370639514992266e-05}, {'_id': '�zg�r Kaman ??�??�', 'avg_influence': 2.656562070572779e-05}, {'_id': 'Ethan Mattos', 'avg_influence': 2.651669226105489e-05}, {'_id': 'XVeggieRaccoonX', 'avg_influence': 2.616311130109555e-05}, {'_id': 'Martina96', 'avg_influence': 2.530916404715818e-05}, {'_id': 'Techmash Suffolk', 'avg_influence': 2.530916404715818e-05}, {'_id': 'Lucy M�ller 25 ??', 'avg_influence': 2.5109756319383572e-05}, {'_id': 'Danish Anime Club', 'avg_influence': 2.4553073682566593e-05}, {'_id': 'cori parrish', 'avg_influence': 2.4252115116363173e-05}, {'_id': 'Temperance', 'avg_influence': 2.3748054873302114e-05}, {'_id': 'nzigestephen', 'avg_influence': 2.3447096307098694e-05}, {'_id': 'Fabulous Espresso Cup', 'avg_influence': 2.1987537971671447e-05}, {'_id': 'Ladypurple', 'avg_influence': 2.0568369918831898e-05}, {'_id': 'Margaret Humphrey', 'avg_influence': 1.972296082697972e-05}, {'_id': 'Hnawn �?�??????', 'avg_influence': 1.8974258360554194e-05}, {'_id': 'Video Contagion', 'avg_influence': 1.8917942017715242e-05}, {'_id': 'Melissa', 'avg_influence': 1.8515432613083006e-05}, {'_id': 'Paris-Chiropratique', 'avg_influence': 1.8112923208450767e-05}, {'_id': 'Taruvar RAJPUT', 'avg_influence': 1.7763036197574448e-05}, {'_id': 'Wood Watch Mall', 'avg_influence': 1.7710413803818527e-05}, {'_id': 'Higgens Dvaccine', 'avg_influence': 1.7559934520716815e-05}, {'_id': 'Margarita0507VA', 'avg_influence': 1.6303477862147204e-05}, {'_id': 'maverick boey', 'avg_influence': 1.590096845751496e-05}, {'_id': 'Rajkumar Kumawat', 'avg_influence': 1.5400602163536934e-05}, {'_id': 'BE PRESENT - Vol.1', 'avg_influence': 1.4892847971392852e-05}, {'_id': 'VoxLuna', 'avg_influence': 1.4087829162128373e-05}, {'_id': 'Robinson', 'avg_influence': 1.4087829162128373e-05}, {'_id': 'Mini', 'avg_influence': 1.4038900717455479e-05}, {'_id': 'FIU Track', 'avg_influence': 1.2880300948231656e-05}, {'_id': 'Laz', 'avg_influence': 1.2477791543599416e-05}, {'_id': 'CuttingRoomCreative', 'avg_influence': 1.2075282138967177e-05}, {'_id': 'MS Raja Rajan', 'avg_influence': 1.086775392507046e-05}, {'_id': 'Akmal', 'avg_influence': 1.0013806671133087e-05}, {'_id': 'Dev pokhariya', 'avg_influence': 9.660225711173741e-06}, {'_id': 'Visual Opel', 'avg_influence': 9.660225711173741e-06}, {'_id': 'Brooklyn Green', 'avg_influence': 8.855206901909263e-06}, {'_id': 'Zachary Marquez', 'avg_influence': 8.855206901909263e-06}, {'_id': \"M's Game Bot\", 'avg_influence': 8.704727618807552e-06}, {'_id': 'Evelyn Wills', 'avg_influence': 8.452697497277024e-06}, {'_id': 'Dave McAlister', 'avg_influence': 8.452697497277024e-06}, {'_id': 'ACSYS Lasertechnik UK', 'avg_influence': 8.452697497277024e-06}, {'_id': 'Pedro Pablo Perez L', 'avg_influence': 8.1517389310736e-06}, {'_id': 'VioletSun Cosplay and Props', 'avg_influence': 8.050188092644784e-06}, {'_id': 'Anne Maxwell', 'avg_influence': 7.647678688012545e-06}, {'_id': 'Nafy nuck', 'avg_influence': 7.094690000278595e-06}, {'_id': 'Zahraa', 'avg_influence': 6.9442107171768835e-06}, {'_id': 'Mema Najem', 'avg_influence': 6.8426598787480665e-06}, {'_id': 'skeleton doggo', 'avg_influence': 6.440150474115828e-06}, {'_id': 'Sequel Bot', 'avg_influence': 6.440150474115828e-06}, {'_id': 'Mark Deming', 'avg_influence': 6.440150474115828e-06}, {'_id': 'ELGA ROSAS', 'avg_influence': 5.988712624810694e-06}, {'_id': 'Faithful and True', 'avg_influence': 4.025094046322392e-06}, {'_id': 'Silvia Rubalcava', 'avg_influence': 3.321626075486731e-06}, {'_id': 'So So Ready', 'avg_influence': 3.220075237057914e-06}, {'_id': 'Massey Lisa', 'avg_influence': 3.220075237057914e-06}, {'_id': 'Benjiii', 'avg_influence': 2.264577144691724e-06}]\n"
     ]
    }
   ],
   "source": [
    "# First we normalize the data and then we use weighting of follwer count, retweet count and favorite count to show the influence of the post.\n",
    "uc3=twitterTag.aggregate([\n",
    "    {\"$lookup\":\n",
    "     {\n",
    "         \"from\":\"twitterUserClean\",\n",
    "         \"localField\":\"user_id\",\n",
    "         \"foreignField\":\"user_id\",\n",
    "         \"as\":\"result\"\n",
    "     }\n",
    "    },\n",
    "    {\"$unwind\":\"$result\"},\n",
    "    {\n",
    "        \"$group\":{\n",
    "            \"_id\":\"$result.user_name\",\n",
    "            \"avg_influence\":{\"$avg\":\n",
    "                             {\"$add\":\n",
    "                             [{\"$multiply\":[{\"$divide\":[\"$result.follower_count\",1242207]},0.5]},\n",
    "                              {\"$multiply\":[{\"$divide\":[\"$retweet_count\",283809]},0.3]},\n",
    "                              {\"$multiply\":[{\"$divide\":[\"$favorite_count\",14]},0.2]}]\n",
    "                             }\n",
    "                            }\n",
    "        }\n",
    "    },\n",
    "    {\"$sort\":{\n",
    "        \"avg_influence\":-1\n",
    "    }}\n",
    "])\n",
    "print(list(uc3))"
   ]
  },
  {
   "cell_type": "markdown",
   "metadata": {},
   "source": [
    "## 4. What posts are like mine ?"
   ]
  },
  {
   "cell_type": "markdown",
   "metadata": {},
   "source": [
    "### Alike posts in Twitter"
   ]
  },
  {
   "cell_type": "code",
   "execution_count": 29,
   "metadata": {},
   "outputs": [
    {
     "name": "stdout",
     "output_type": "stream",
     "text": [
      "[{'_id': 'Mindhorn', 'count': 4}, {'_id': 'Movie', 'count': 3}]\n"
     ]
    }
   ],
   "source": [
    "# First we find tags in Twitter data which are mentioned more than one time\n",
    "uc4=twitterTag.aggregate([\n",
    "    {\"$match\":{\"movie_name\":\"Mindhorn\"}},\n",
    "    {\"$group\":{'_id':\"$tag\",'count':{\"$sum\":1}}},\n",
    "    {\"$match\":{'count':{\"$gt\":1}}},\n",
    "    {\"$sort\":{'count':-1}},\n",
    "])\n",
    "print(list(uc4))"
   ]
  },
  {
   "cell_type": "code",
   "execution_count": 12,
   "metadata": {},
   "outputs": [
    {
     "name": "stdout",
     "output_type": "stream",
     "text": [
      "[981181550527205000, 980799092723998000, 980484071389351000]\n"
     ]
    }
   ],
   "source": [
    "# Next, find the twitter id whose content contains those tags\n",
    "uc4_2=twitterTag.distinct('twitter_id',{'movie_name':\"Mindhorn\",'tag':\"Mindhorn\",'tag':\"Movie\"})\n",
    "print(list(uc4_2))"
   ]
  },
  {
   "cell_type": "markdown",
   "metadata": {},
   "source": [
    "### Alike videos in Youtube"
   ]
  },
  {
   "cell_type": "code",
   "execution_count": 25,
   "metadata": {},
   "outputs": [
    {
     "name": "stdout",
     "output_type": "stream",
     "text": [
      "[{'_id': \"suhendar23418'\", 'count': 2}]\n"
     ]
    }
   ],
   "source": [
    "# First we find tags in YouTube data which are mentioned more than one time\n",
    "uc4_3=youtubeData.aggregate([\n",
    "    {\"$match\":{\"movie_name\":\"Nocturnal Animals\"}},\n",
    "    {\"$group\":{'_id':\"$tag\",'count':{\"$sum\":1}}},\n",
    "    {\"$match\":{'count':{\"$gt\":1}}},\n",
    "    {\"$sort\":{'count':-1}},\n",
    "])\n",
    "print(list(uc4_3))"
   ]
  },
  {
   "cell_type": "code",
   "execution_count": 29,
   "metadata": {},
   "outputs": [
    {
     "name": "stdout",
     "output_type": "stream",
     "text": [
      "['g9iW2UgPYPk', 'QnvMDsjznxg']\n"
     ]
    }
   ],
   "source": [
    "# Next, find the video id whose content contains those tags\n",
    "uc4_4=youtubeData.distinct('video_Id',{'movie_name':\"Nocturnal Animals\",'tag':\"suhendar23418'\"})\n",
    "print(list(uc4_4))"
   ]
  },
  {
   "cell_type": "markdown",
   "metadata": {},
   "source": [
    "## 5. What topics are trending in my domain ?"
   ]
  },
  {
   "cell_type": "markdown",
   "metadata": {},
   "source": [
    "### Trend in Twitter"
   ]
  },
  {
   "cell_type": "code",
   "execution_count": 4,
   "metadata": {},
   "outputs": [
    {
     "name": "stdout",
     "output_type": "stream",
     "text": [
      "[{'_id': 'Boyhood', 'count': 39}, {'_id': 'Thor', 'count': 27}, {'_id': 'Bridesmaids', 'count': 27}]\n"
     ]
    }
   ],
   "source": [
    "# We are trying to use tag amount to find hot topic within an hour\n",
    "uc5 =twitterTag.aggregate([\n",
    "    {\"$match\":{\"time\":{\"$regex\":\"^18\"}}},\n",
    "    {\"$group\":{'_id':\"$movie_name\",'count':{\"$sum\":1}}},\n",
    "    {\"$sort\":{\"count\":-1}},\n",
    "    {\"$limit\":3}\n",
    "])\n",
    "print(list(uc5))"
   ]
  },
  {
   "cell_type": "markdown",
   "metadata": {},
   "source": [
    "### Trend in YouTube"
   ]
  },
  {
   "cell_type": "code",
   "execution_count": 10,
   "metadata": {},
   "outputs": [
    {
     "name": "stdout",
     "output_type": "stream",
     "text": [
      "[{'_id': 'Lavender', 'count': 7}, {'_id': 'Unstoppable', 'count': 6}, {'_id': 'Centurion', 'count': 5}]\n"
     ]
    }
   ],
   "source": [
    "# We are trying to use tag amount to find hot topic within an hour\n",
    "uc5 =youtubeData.aggregate([\n",
    "    {\"$match\":{\"publish_time\":{\"$regex\":\"^18\"}}},\n",
    "    {\"$group\":{'_id':\"$movie_name\",'count':{\"$sum\":1}}},\n",
    "    {\"$sort\":{\"count\":-1}},\n",
    "    {\"$limit\":3}\n",
    "])\n",
    "print(list(uc5))"
   ]
  },
  {
   "cell_type": "markdown",
   "metadata": {
    "collapsed": true
   },
   "source": [
    "## 6. What users post like me ?"
   ]
  },
  {
   "cell_type": "markdown",
   "metadata": {},
   "source": [
    "### Alike users in Twitter"
   ]
  },
  {
   "cell_type": "code",
   "execution_count": 4,
   "metadata": {},
   "outputs": [
    {
     "name": "stdout",
     "output_type": "stream",
     "text": [
      "[{'_id': 'Boston', 'count': 2}, {'_id': 'Senior', 'count': 2}]\n"
     ]
    }
   ],
   "source": [
    "# First we find tags in Twitter data which are mentioned more than one time\n",
    "uc6_1=twitterTag.aggregate([\n",
    "    {\"$match\":{\"movie_name\":\"The Accountant\"}},\n",
    "    {\"$group\":{'_id':\"$tag\",'count':{\"$sum\":1}}},\n",
    "    {\"$match\":{'count':{\"$gt\":1}}},\n",
    "    {\"$sort\":{'count':-1}},\n",
    "])\n",
    "print(list(uc6_1))"
   ]
  },
  {
   "cell_type": "code",
   "execution_count": 16,
   "metadata": {},
   "outputs": [
    {
     "name": "stdout",
     "output_type": "stream",
     "text": [
      "[{'_id': ObjectId('5ad3662406651e8d9521d46c'), 'user': {'user_name': 'Wow Jobs Schweiz', 'user_id': 981237784395444000}}, {'_id': ObjectId('5ad3662406651e8d9521d46f'), 'user': {'user_name': 'jobsuche jobs', 'user_id': 981237365862789000}}]\n"
     ]
    }
   ],
   "source": [
    "# Then, we use those tags to find users in twitter user table\n",
    "# Join twitterTag and twitterUserClean tables together\n",
    "uc6_2 =twitterTag.aggregate([\n",
    " \n",
    "    {\n",
    "        \"$lookup\":\n",
    "        {\n",
    "            \"from\":\"twitterUserClean\",\n",
    "            \"localField\":\"user_id\",\n",
    "            \"foreignField\":\"user_id\",\n",
    "            \"as\":\"user\"\n",
    "        }\n",
    "    },\n",
    "    \n",
    "     {\"$unwind\": \"$user\"},\n",
    "                                                \n",
    "     {\n",
    "         \"$match\":{\"movie_name\":\"The Accountant\",\"tag\":\"Boston\",\"tag\":\"Senior\"}\n",
    "     },\n",
    "    {\n",
    "        \"$project\":{\"user.user_id\":1,\"user.user_name\":1}\n",
    "    }\n",
    "    ])\n",
    "print(list(uc6_2))"
   ]
  },
  {
   "cell_type": "markdown",
   "metadata": {},
   "source": [
    "### Alike users in YouTube"
   ]
  },
  {
   "cell_type": "code",
   "execution_count": 12,
   "metadata": {},
   "outputs": [
    {
     "name": "stdout",
     "output_type": "stream",
     "text": [
      "[{'_id': ' [\"Barbershop: The Next Cut FULL\\'M.o.V.i.E\\'2016\\'HD\\'\"] ', 'count': 4}, {'_id': \"['Wawna10418']\", 'count': 2}]\n"
     ]
    }
   ],
   "source": [
    "# First we find tags in YouTube data which are mentioned more than one time\n",
    "uc6_3=youtubeData.aggregate([\n",
    "    {\"$match\":{\"movie_name\":\"Barbershop: The Next Cut\"}},\n",
    "    {\"$group\":{'_id':\"$tag\",'count':{\"$sum\":1}}},\n",
    "    {\"$match\":{'count':{\"$gt\":1}}},\n",
    "    {\"$sort\":{'count':-1}},\n",
    "])\n",
    "print(list(uc6_3))"
   ]
  },
  {
   "cell_type": "code",
   "execution_count": 17,
   "metadata": {},
   "outputs": [
    {
     "name": "stdout",
     "output_type": "stream",
     "text": [
      "[{'_id': ObjectId('5ae37fca45c6ca3f0f19bf41'), 'channel_Id': 'UCVt-ttKZFa1DTX9bll4iDjw'}, {'_id': ObjectId('5ae37fca45c6ca3f0f19bf45'), 'channel_Id': 'UCgGyewH9BI3dWTRXyK6vujQ'}]\n"
     ]
    }
   ],
   "source": [
    "# Then we use those tags to find channel id whose video has same tags\n",
    "uc6_3=youtubeData.aggregate([\n",
    "    {\"$match\":{\"movie_name\":\"Barbershop: The Next Cut\"}},\n",
    "    {\"$match\":{\"tag\":\"Barbershop: The Next Cut FULL\\'M.o.V.i.E\\'2016\\'HD\\'\",\"tag\":\"['Wawna10418']\"}},\n",
    "    {\"$project\":{\"channel_Id\":1}},\n",
    "])\n",
    "print(list(uc6_3))"
   ]
  },
  {
   "cell_type": "markdown",
   "metadata": {},
   "source": [
    "## 7. What keywords/ hashtags should I add to my post ?"
   ]
  },
  {
   "cell_type": "code",
   "execution_count": 34,
   "metadata": {},
   "outputs": [
    {
     "name": "stdout",
     "output_type": "stream",
     "text": [
      "[{'_id': '', 'count': 1046144}, {'_id': 'Boyhood', 'count': 39}, {'_id': 'A United Kingdom', 'count': 28}, {'_id': 'The Secret Scripture', 'count': 28}, {'_id': 'Bridesmaids', 'count': 27}, {'_id': 'Thor', 'count': 27}, {'_id': 'Lovesong', 'count': 22}, {'_id': 'The Intern', 'count': 21}, {'_id': 'Regression', 'count': 18}, {'_id': 'Mamma Mia!', 'count': 18}]\n"
     ]
    }
   ],
   "source": [
    "# First, we find movies with more tags, which means this movie is a hot topic.\n",
    "uc7_1 =twitterTag.aggregate([{\"$group\":{'_id':\"$movie_name\",'count':{\"$sum\":1}}},{\"$sort\":{\"count\":-1}},{\"$limit\":10}])\n",
    "print(list(uc7_1))"
   ]
  },
  {
   "cell_type": "code",
   "execution_count": 10,
   "metadata": {},
   "outputs": [
    {
     "name": "stdout",
     "output_type": "stream",
     "text": [
      "[{'_id': 'TrackList', 'avgRetweet': 2551.0}, {'_id': 'Ridewithme', 'avgRetweet': 2551.0}, {'_id': '20180407_DEBUT', 'avgRetweet': 2551.0}, {'_id': 'ONLYONE', 'avgRetweet': 2551.0}, {'_id': '??', 'avgRetweet': 2551.0}, {'_id': 'UNB', 'avgRetweet': 851.6666666666666}, {'_id': 'BOYHOOD', 'avgRetweet': 851.6666666666666}, {'_id': '???', 'avgRetweet': 460.5}, {'_id': 'UNB_JUN', 'avgRetweet': 69.33333333333333}, {'_id': '????', 'avgRetweet': 69.33333333333333}, {'_id': '?', 'avgRetweet': 69.33333333333333}, {'_id': 'UNB_BOYHOOD', 'avgRetweet': 69.33333333333333}, {'_id': 'JUN', 'avgRetweet': 69.33333333333333}, {'_id': 'LetsBeginUNB', 'avgRetweet': 69.33333333333333}, {'_id': '????????', 'avgRetweet': 40.0}, {'_id': 'CASPER', 'avgRetweet': 2.0}]\n"
     ]
    }
   ],
   "source": [
    "# Then we choose the hot movie and find which tags have more retweet count. The tags with more retweet count are the tag we should add to our post\n",
    "uc7_2 =twitterTag.aggregate([{\"$match\":{\"movie_name\":\"Boyhood\"}},{\"$group\":{'_id':\"$tag\",'avgRetweet':{\"$avg\":\"$retweet_count\"}}},{\"$sort\":{\"avgRetweet\":-1}}])\n",
    "print(list(uc7_2))"
   ]
  },
  {
   "cell_type": "markdown",
   "metadata": {},
   "source": [
    "## 8. Who should I be following ?"
   ]
  },
  {
   "cell_type": "code",
   "execution_count": 66,
   "metadata": {},
   "outputs": [
    {
     "name": "stdout",
     "output_type": "stream",
     "text": [
      "[{'_id': ObjectId('5ad3662406651e8d9521d46c'), 'user': {'user_name': 'Wow Jobs Schweiz', 'user_id': 981237784395444000, 'follower_count': 2508}}]\n"
     ]
    }
   ],
   "source": [
    "# We find the user whose tweet contains same tags, and whose follower more than 2000 people.\n",
    "# If the user have the same tags with me, which means there is a topic we both following.\n",
    "# And when the user has more follower, which means he or she has a higher influence.\n",
    "uc8_1 =twitterTag.aggregate([\n",
    " \n",
    "    {\n",
    "        \"$lookup\":\n",
    "        {\n",
    "            \"from\":\"twitterUserClean\",\n",
    "            \"localField\":\"user_id\",\n",
    "            \"foreignField\":\"user_id\",\n",
    "            \"as\":\"user\"\n",
    "        }\n",
    "    },\n",
    "    \n",
    "     {\"$unwind\": \"$user\"},                                          \n",
    "     {\n",
    "         \"$match\":{\"movie_name\":\"The Accountant\",\"tag\":\"Boston\",\"tag\":\"Senior\",\"user.follower_count\":{\"$gte\":2000}}\n",
    "     },\n",
    "    {\n",
    "        \"$project\":{\"user.user_id\":1,\"user.user_name\":1,\"user.follower_count\":1}\n",
    "    }\n",
    "    ])\n",
    "print(list(uc8_1))"
   ]
  }
 ],
 "metadata": {
  "kernelspec": {
   "display_name": "Python 3",
   "language": "python",
   "name": "python3"
  },
  "language_info": {
   "codemirror_mode": {
    "name": "ipython",
    "version": 3
   },
   "file_extension": ".py",
   "mimetype": "text/x-python",
   "name": "python",
   "nbconvert_exporter": "python",
   "pygments_lexer": "ipython3",
   "version": "3.6.3"
  }
 },
 "nbformat": 4,
 "nbformat_minor": 2
}
